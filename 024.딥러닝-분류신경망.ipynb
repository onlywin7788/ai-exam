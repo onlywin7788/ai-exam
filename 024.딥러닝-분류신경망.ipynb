{
 "cells": [
  {
   "cell_type": "code",
   "execution_count": 1,
   "metadata": {},
   "outputs": [],
   "source": [
    "# 랜덤 시드 설정\n",
    "import numpy as np\n",
    "import tensorflow as tf\n",
    "np.random.seed(0)\n",
    "tf.random.set_seed(0)"
   ]
  },
  {
   "cell_type": "code",
   "execution_count": 2,
   "metadata": {},
   "outputs": [],
   "source": [
    "# 데이터 불러오기\n",
    "from sklearn import datasets\n",
    "raw_wine = datasets.load_wine()"
   ]
  },
  {
   "cell_type": "code",
   "execution_count": 4,
   "metadata": {},
   "outputs": [],
   "source": [
    "# 피쳐, 타겟 데이터 지정\n",
    "X = raw_wine.data\n",
    "y = raw_wine.target"
   ]
  },
  {
   "cell_type": "code",
   "execution_count": 5,
   "metadata": {},
   "outputs": [
    {
     "name": "stdout",
     "output_type": "stream",
     "text": [
      "(178, 13)\n"
     ]
    }
   ],
   "source": [
    "# 피쳐 데이터 차원 확인\n",
    "print(X.shape)"
   ]
  },
  {
   "cell_type": "code",
   "execution_count": 6,
   "metadata": {},
   "outputs": [
    {
     "name": "stdout",
     "output_type": "stream",
     "text": [
      "{0, 1, 2}\n"
     ]
    }
   ],
   "source": [
    "# 타겟 데이터 종류 확인\n",
    "print(set(y))"
   ]
  },
  {
   "cell_type": "code",
   "execution_count": 7,
   "metadata": {},
   "outputs": [
    {
     "name": "stdout",
     "output_type": "stream",
     "text": [
      "[[1. 0. 0.]\n",
      " [1. 0. 0.]\n",
      " [1. 0. 0.]\n",
      " [1. 0. 0.]\n",
      " [1. 0. 0.]\n",
      " [1. 0. 0.]\n",
      " [1. 0. 0.]\n",
      " [1. 0. 0.]\n",
      " [1. 0. 0.]\n",
      " [1. 0. 0.]\n",
      " [1. 0. 0.]\n",
      " [1. 0. 0.]\n",
      " [1. 0. 0.]\n",
      " [1. 0. 0.]\n",
      " [1. 0. 0.]\n",
      " [1. 0. 0.]\n",
      " [1. 0. 0.]\n",
      " [1. 0. 0.]\n",
      " [1. 0. 0.]\n",
      " [1. 0. 0.]\n",
      " [1. 0. 0.]\n",
      " [1. 0. 0.]\n",
      " [1. 0. 0.]\n",
      " [1. 0. 0.]\n",
      " [1. 0. 0.]\n",
      " [1. 0. 0.]\n",
      " [1. 0. 0.]\n",
      " [1. 0. 0.]\n",
      " [1. 0. 0.]\n",
      " [1. 0. 0.]\n",
      " [1. 0. 0.]\n",
      " [1. 0. 0.]\n",
      " [1. 0. 0.]\n",
      " [1. 0. 0.]\n",
      " [1. 0. 0.]\n",
      " [1. 0. 0.]\n",
      " [1. 0. 0.]\n",
      " [1. 0. 0.]\n",
      " [1. 0. 0.]\n",
      " [1. 0. 0.]\n",
      " [1. 0. 0.]\n",
      " [1. 0. 0.]\n",
      " [1. 0. 0.]\n",
      " [1. 0. 0.]\n",
      " [1. 0. 0.]\n",
      " [1. 0. 0.]\n",
      " [1. 0. 0.]\n",
      " [1. 0. 0.]\n",
      " [1. 0. 0.]\n",
      " [1. 0. 0.]\n",
      " [1. 0. 0.]\n",
      " [1. 0. 0.]\n",
      " [1. 0. 0.]\n",
      " [1. 0. 0.]\n",
      " [1. 0. 0.]\n",
      " [1. 0. 0.]\n",
      " [1. 0. 0.]\n",
      " [1. 0. 0.]\n",
      " [1. 0. 0.]\n",
      " [0. 1. 0.]\n",
      " [0. 1. 0.]\n",
      " [0. 1. 0.]\n",
      " [0. 1. 0.]\n",
      " [0. 1. 0.]\n",
      " [0. 1. 0.]\n",
      " [0. 1. 0.]\n",
      " [0. 1. 0.]\n",
      " [0. 1. 0.]\n",
      " [0. 1. 0.]\n",
      " [0. 1. 0.]\n",
      " [0. 1. 0.]\n",
      " [0. 1. 0.]\n",
      " [0. 1. 0.]\n",
      " [0. 1. 0.]\n",
      " [0. 1. 0.]\n",
      " [0. 1. 0.]\n",
      " [0. 1. 0.]\n",
      " [0. 1. 0.]\n",
      " [0. 1. 0.]\n",
      " [0. 1. 0.]\n",
      " [0. 1. 0.]\n",
      " [0. 1. 0.]\n",
      " [0. 1. 0.]\n",
      " [0. 1. 0.]\n",
      " [0. 1. 0.]\n",
      " [0. 1. 0.]\n",
      " [0. 1. 0.]\n",
      " [0. 1. 0.]\n",
      " [0. 1. 0.]\n",
      " [0. 1. 0.]\n",
      " [0. 1. 0.]\n",
      " [0. 1. 0.]\n",
      " [0. 1. 0.]\n",
      " [0. 1. 0.]\n",
      " [0. 1. 0.]\n",
      " [0. 1. 0.]\n",
      " [0. 1. 0.]\n",
      " [0. 1. 0.]\n",
      " [0. 1. 0.]\n",
      " [0. 1. 0.]\n",
      " [0. 1. 0.]\n",
      " [0. 1. 0.]\n",
      " [0. 1. 0.]\n",
      " [0. 1. 0.]\n",
      " [0. 1. 0.]\n",
      " [0. 1. 0.]\n",
      " [0. 1. 0.]\n",
      " [0. 1. 0.]\n",
      " [0. 1. 0.]\n",
      " [0. 1. 0.]\n",
      " [0. 1. 0.]\n",
      " [0. 1. 0.]\n",
      " [0. 1. 0.]\n",
      " [0. 1. 0.]\n",
      " [0. 1. 0.]\n",
      " [0. 1. 0.]\n",
      " [0. 1. 0.]\n",
      " [0. 1. 0.]\n",
      " [0. 1. 0.]\n",
      " [0. 1. 0.]\n",
      " [0. 1. 0.]\n",
      " [0. 1. 0.]\n",
      " [0. 1. 0.]\n",
      " [0. 1. 0.]\n",
      " [0. 1. 0.]\n",
      " [0. 1. 0.]\n",
      " [0. 1. 0.]\n",
      " [0. 1. 0.]\n",
      " [0. 1. 0.]\n",
      " [0. 1. 0.]\n",
      " [0. 0. 1.]\n",
      " [0. 0. 1.]\n",
      " [0. 0. 1.]\n",
      " [0. 0. 1.]\n",
      " [0. 0. 1.]\n",
      " [0. 0. 1.]\n",
      " [0. 0. 1.]\n",
      " [0. 0. 1.]\n",
      " [0. 0. 1.]\n",
      " [0. 0. 1.]\n",
      " [0. 0. 1.]\n",
      " [0. 0. 1.]\n",
      " [0. 0. 1.]\n",
      " [0. 0. 1.]\n",
      " [0. 0. 1.]\n",
      " [0. 0. 1.]\n",
      " [0. 0. 1.]\n",
      " [0. 0. 1.]\n",
      " [0. 0. 1.]\n",
      " [0. 0. 1.]\n",
      " [0. 0. 1.]\n",
      " [0. 0. 1.]\n",
      " [0. 0. 1.]\n",
      " [0. 0. 1.]\n",
      " [0. 0. 1.]\n",
      " [0. 0. 1.]\n",
      " [0. 0. 1.]\n",
      " [0. 0. 1.]\n",
      " [0. 0. 1.]\n",
      " [0. 0. 1.]\n",
      " [0. 0. 1.]\n",
      " [0. 0. 1.]\n",
      " [0. 0. 1.]\n",
      " [0. 0. 1.]\n",
      " [0. 0. 1.]\n",
      " [0. 0. 1.]\n",
      " [0. 0. 1.]\n",
      " [0. 0. 1.]\n",
      " [0. 0. 1.]\n",
      " [0. 0. 1.]\n",
      " [0. 0. 1.]\n",
      " [0. 0. 1.]\n",
      " [0. 0. 1.]\n",
      " [0. 0. 1.]\n",
      " [0. 0. 1.]\n",
      " [0. 0. 1.]\n",
      " [0. 0. 1.]\n",
      " [0. 0. 1.]]\n"
     ]
    }
   ],
   "source": [
    "# 타겟 데이터 원-핫 인코딩\n",
    "from tensorflow.keras.utils import to_categorical\n",
    "y_hot = to_categorical(y) \n",
    "print(y_hot)"
   ]
  },
  {
   "cell_type": "code",
   "execution_count": 8,
   "metadata": {},
   "outputs": [],
   "source": [
    "# 트레이닝/테스트 데이터 분할\n",
    "from sklearn.model_selection import train_test_split\n",
    "X_tn, X_te, y_tn, y_te=train_test_split(X, y_hot, \n",
    "                                        random_state=0)"
   ]
  },
  {
   "cell_type": "code",
   "execution_count": 9,
   "metadata": {},
   "outputs": [],
   "source": [
    "# 신경망 생성\n",
    "from tensorflow.keras.models import Sequential\n",
    "from tensorflow.keras.layers import Dense\n",
    "from tensorflow.keras.layers import BatchNormalization\n",
    "from tensorflow.keras.layers import Activation\n",
    "\n",
    "n_feat = X_tn.shape[1]\n",
    "n_class = len(set(y))\n",
    "epo = 30\n",
    "\n",
    "model = Sequential()\n",
    "model.add(Dense(20, input_dim=n_feat))\n",
    "model.add(BatchNormalization())\n",
    "model.add(Activation('relu'))\n",
    "model.add(Dense(n_class))\n",
    "model.add(Activation('softmax'))"
   ]
  },
  {
   "cell_type": "code",
   "execution_count": 10,
   "metadata": {},
   "outputs": [
    {
     "name": "stdout",
     "output_type": "stream",
     "text": [
      "Model: \"sequential\"\n",
      "_________________________________________________________________\n",
      "Layer (type)                 Output Shape              Param #   \n",
      "=================================================================\n",
      "dense (Dense)                (None, 20)                280       \n",
      "_________________________________________________________________\n",
      "batch_normalization (BatchNo (None, 20)                80        \n",
      "_________________________________________________________________\n",
      "activation (Activation)      (None, 20)                0         \n",
      "_________________________________________________________________\n",
      "dense_1 (Dense)              (None, 3)                 63        \n",
      "_________________________________________________________________\n",
      "activation_1 (Activation)    (None, 3)                 0         \n",
      "=================================================================\n",
      "Total params: 423\n",
      "Trainable params: 383\n",
      "Non-trainable params: 40\n",
      "_________________________________________________________________\n"
     ]
    }
   ],
   "source": [
    "# 신경망 모형 구조 확인\n",
    "model.summary()"
   ]
  },
  {
   "cell_type": "code",
   "execution_count": 11,
   "metadata": {},
   "outputs": [],
   "source": [
    "# 모형 컴파일\n",
    "model.compile(loss='categorical_crossentropy', \n",
    "              optimizer='adam', \n",
    "              metrics=['accuracy'])"
   ]
  },
  {
   "cell_type": "code",
   "execution_count": 12,
   "metadata": {},
   "outputs": [
    {
     "name": "stdout",
     "output_type": "stream",
     "text": [
      "Epoch 1/30\n",
      "27/27 [==============================] - 1s 2ms/step - loss: 2.0335 - accuracy: 0.3937\n",
      "Epoch 2/30\n",
      "27/27 [==============================] - 0s 2ms/step - loss: 1.7389 - accuracy: 0.3261\n",
      "Epoch 3/30\n",
      "27/27 [==============================] - 0s 2ms/step - loss: 1.3710 - accuracy: 0.3772\n",
      "Epoch 4/30\n",
      "27/27 [==============================] - 0s 2ms/step - loss: 1.0671 - accuracy: 0.4106\n",
      "Epoch 5/30\n",
      "27/27 [==============================] - 0s 2ms/step - loss: 0.9359 - accuracy: 0.4771\n",
      "Epoch 6/30\n",
      "27/27 [==============================] - 0s 2ms/step - loss: 0.9315 - accuracy: 0.5169\n",
      "Epoch 7/30\n",
      "27/27 [==============================] - 0s 2ms/step - loss: 0.8464 - accuracy: 0.5764\n",
      "Epoch 8/30\n",
      "27/27 [==============================] - 0s 2ms/step - loss: 0.7689 - accuracy: 0.6461\n",
      "Epoch 9/30\n",
      "27/27 [==============================] - 0s 2ms/step - loss: 0.8440 - accuracy: 0.5584\n",
      "Epoch 10/30\n",
      "27/27 [==============================] - 0s 2ms/step - loss: 0.7814 - accuracy: 0.5969\n",
      "Epoch 11/30\n",
      "27/27 [==============================] - 0s 2ms/step - loss: 0.7280 - accuracy: 0.6299\n",
      "Epoch 12/30\n",
      "27/27 [==============================] - 0s 2ms/step - loss: 0.7120 - accuracy: 0.6978\n",
      "Epoch 13/30\n",
      "27/27 [==============================] - 0s 2ms/step - loss: 0.6735 - accuracy: 0.7074\n",
      "Epoch 14/30\n",
      "27/27 [==============================] - 0s 2ms/step - loss: 0.6669 - accuracy: 0.7203\n",
      "Epoch 15/30\n",
      "27/27 [==============================] - 0s 2ms/step - loss: 0.6431 - accuracy: 0.6837\n",
      "Epoch 16/30\n",
      "27/27 [==============================] - 0s 2ms/step - loss: 0.6109 - accuracy: 0.8157\n",
      "Epoch 17/30\n",
      "27/27 [==============================] - 0s 2ms/step - loss: 0.6360 - accuracy: 0.7350\n",
      "Epoch 18/30\n",
      "27/27 [==============================] - 0s 2ms/step - loss: 0.6430 - accuracy: 0.7476\n",
      "Epoch 19/30\n",
      "27/27 [==============================] - 0s 2ms/step - loss: 0.6947 - accuracy: 0.7482\n",
      "Epoch 20/30\n",
      "27/27 [==============================] - 0s 2ms/step - loss: 0.6145 - accuracy: 0.7931\n",
      "Epoch 21/30\n",
      "27/27 [==============================] - 0s 2ms/step - loss: 0.6596 - accuracy: 0.7244\n",
      "Epoch 22/30\n",
      "27/27 [==============================] - 0s 2ms/step - loss: 0.5468 - accuracy: 0.8138\n",
      "Epoch 23/30\n",
      "27/27 [==============================] - 0s 2ms/step - loss: 0.4697 - accuracy: 0.8600\n",
      "Epoch 24/30\n",
      "27/27 [==============================] - 0s 2ms/step - loss: 0.6098 - accuracy: 0.8085\n",
      "Epoch 25/30\n",
      "27/27 [==============================] - 0s 2ms/step - loss: 0.5106 - accuracy: 0.8027\n",
      "Epoch 26/30\n",
      "27/27 [==============================] - 0s 2ms/step - loss: 0.4135 - accuracy: 0.8765\n",
      "Epoch 27/30\n",
      "27/27 [==============================] - 0s 2ms/step - loss: 0.4395 - accuracy: 0.8550\n",
      "Epoch 28/30\n",
      "27/27 [==============================] - 0s 2ms/step - loss: 0.4340 - accuracy: 0.8470\n",
      "Epoch 29/30\n",
      "27/27 [==============================] - 0s 2ms/step - loss: 0.5094 - accuracy: 0.7981\n",
      "Epoch 30/30\n",
      "27/27 [==============================] - ETA: 0s - loss: 0.4746 - accuracy: 0.80 - 0s 2ms/step - loss: 0.4127 - accuracy: 0.8791\n"
     ]
    }
   ],
   "source": [
    "# 신경망 학습\n",
    "hist = model.fit(X_tn, y_tn, epochs=epo, batch_size=5)"
   ]
  },
  {
   "cell_type": "code",
   "execution_count": 13,
   "metadata": {},
   "outputs": [
    {
     "name": "stdout",
     "output_type": "stream",
     "text": [
      "5/5 [==============================] - 0s 1ms/step - loss: 0.6606 - accuracy: 0.7368\n",
      "0.7368420958518982\n"
     ]
    }
   ],
   "source": [
    "# 트레이닝 데이터 평가\n",
    "print(model.evaluate(X_tn, y_tn)[1])"
   ]
  },
  {
   "cell_type": "code",
   "execution_count": 14,
   "metadata": {},
   "outputs": [
    {
     "name": "stdout",
     "output_type": "stream",
     "text": [
      "2/2 [==============================] - 0s 5ms/step - loss: 0.6426 - accuracy: 0.7556\n",
      "0.7555555701255798\n"
     ]
    }
   ],
   "source": [
    "# 테스트 데이터 평가\n",
    "print(model.evaluate(X_te, y_te)[1])"
   ]
  },
  {
   "cell_type": "code",
   "execution_count": 16,
   "metadata": {},
   "outputs": [
    {
     "name": "stdout",
     "output_type": "stream",
     "text": [
      "[ 1  2  3  4  5  6  7  8  9 10 11 12 13 14 15 16 17 18 19 20 21 22 23 24\n",
      " 25 26 27 28 29 30]\n"
     ]
    }
   ],
   "source": [
    "import numpy as np\n",
    "epoch = np.arange(1,epo+1)\n",
    "print(epoch)"
   ]
  },
  {
   "cell_type": "code",
   "execution_count": 17,
   "metadata": {},
   "outputs": [
    {
     "name": "stdout",
     "output_type": "stream",
     "text": [
      "[0.3458646535873413, 0.3834586441516876, 0.39849624037742615, 0.4436090290546417, 0.5263158082962036, 0.6015037298202515, 0.5639097690582275, 0.6240601539611816, 0.5939849615097046, 0.61654132604599, 0.6616541147232056, 0.6842105388641357, 0.6842105388641357, 0.6992481350898743, 0.7142857313156128, 0.7744361162185669, 0.7518796920776367, 0.7518796920776367, 0.7443609237670898, 0.7894737124443054, 0.7969924807548523, 0.7669172883033752, 0.8421052694320679, 0.8270676732063293, 0.8270676732063293, 0.8270676732063293, 0.8496240377426147, 0.8496240377426147, 0.8270676732063293, 0.8646616339683533]\n"
     ]
    }
   ],
   "source": [
    "accuracy = hist.history['accuracy'] \n",
    "print(accuracy)"
   ]
  },
  {
   "cell_type": "code",
   "execution_count": 18,
   "metadata": {},
   "outputs": [
    {
     "name": "stdout",
     "output_type": "stream",
     "text": [
      "[1.9797742366790771, 1.6155288219451904, 1.2918164730072021, 1.0279444456100464, 0.9091541171073914, 0.8727608323097229, 0.873351514339447, 0.7951136231422424, 0.8200011253356934, 0.7861722111701965, 0.7411396503448486, 0.7207075953483582, 0.7284011840820312, 0.7208655476570129, 0.6616853475570679, 0.6384433507919312, 0.6166789531707764, 0.6318159699440002, 0.704967200756073, 0.5679293870925903, 0.5816187262535095, 0.5675144195556641, 0.4875563979148865, 0.5761134028434753, 0.5063580870628357, 0.4814303517341614, 0.43181976675987244, 0.4628790616989136, 0.45662128925323486, 0.4377191960811615]\n"
     ]
    }
   ],
   "source": [
    "loss = hist.history['loss'] \n",
    "print(loss)"
   ]
  },
  {
   "cell_type": "code",
   "execution_count": 19,
   "metadata": {},
   "outputs": [
    {
     "data": {
      "image/png": "[encoded data removed]",
      "text/plain": [
       "<Figure size 432x288 with 1 Axes>"
      ]
     },
     "metadata": {
      "needs_background": "light"
     },
     "output_type": "display_data"
    }
   ],
   "source": [
    "# 정확도 학습 그래프\n",
    "import matplotlib.pyplot as plt\n",
    "\n",
    "plt.plot(epoch, accuracy, label='accuracy')\n",
    "plt.xlabel('epoch')\n",
    "plt.ylabel('accuracy')\n",
    "plt.legend()\n",
    "plt.show()"
   ]
  },
  {
   "cell_type": "code",
   "execution_count": 20,
   "metadata": {},
   "outputs": [
    {
     "data": {
      "image/png": "[encoded data removed]",
      "text/plain": [
       "<Figure size 432x288 with 1 Axes>"
      ]
     },
     "metadata": {
      "needs_background": "light"
     },
     "output_type": "display_data"
    }
   ],
   "source": [
    "# 손실 그래프\n",
    "import matplotlib.pyplot as plt\n",
    "\n",
    "plt.plot(epoch, loss,'r', label='loss')\n",
    "plt.xlabel('epoch')\n",
    "plt.ylabel('loss')\n",
    "plt.legend()\n",
    "plt.show()"
   ]
  },
  {
   "cell_type": "code",
   "execution_count": 21,
   "metadata": {},
   "outputs": [
    {
     "name": "stdout",
     "output_type": "stream",
     "text": [
      "(178, 13)\n",
      "{0, 1, 2}\n",
      "Model: \"sequential_1\"\n",
      "_________________________________________________________________\n",
      "Layer (type)                 Output Shape              Param #   \n",
      "=================================================================\n",
      "dense_2 (Dense)              (None, 20)                280       \n",
      "_________________________________________________________________\n",
      "batch_normalization_1 (Batch (None, 20)                80        \n",
      "_________________________________________________________________\n",
      "activation_2 (Activation)    (None, 20)                0         \n",
      "_________________________________________________________________\n",
      "dense_3 (Dense)              (None, 3)                 63        \n",
      "_________________________________________________________________\n",
      "activation_3 (Activation)    (None, 3)                 0         \n",
      "=================================================================\n",
      "Total params: 423\n",
      "Trainable params: 383\n",
      "Non-trainable params: 40\n",
      "_________________________________________________________________\n",
      "Epoch 1/30\n",
      "27/27 [==============================] - 1s 2ms/step - loss: 2.0335 - accuracy: 0.3937\n",
      "Epoch 2/30\n",
      "27/27 [==============================] - 0s 2ms/step - loss: 1.7389 - accuracy: 0.3261\n",
      "Epoch 3/30\n",
      "27/27 [==============================] - 0s 2ms/step - loss: 1.3710 - accuracy: 0.3772\n",
      "Epoch 4/30\n",
      "27/27 [==============================] - 0s 2ms/step - loss: 1.0671 - accuracy: 0.4106\n",
      "Epoch 5/30\n",
      "27/27 [==============================] - 0s 2ms/step - loss: 0.9359 - accuracy: 0.4771\n",
      "Epoch 6/30\n",
      "27/27 [==============================] - 0s 2ms/step - loss: 0.9315 - accuracy: 0.5169\n",
      "Epoch 7/30\n",
      "27/27 [==============================] - 0s 2ms/step - loss: 0.8464 - accuracy: 0.5764\n",
      "Epoch 8/30\n",
      "27/27 [==============================] - 0s 2ms/step - loss: 0.7689 - accuracy: 0.6461\n",
      "Epoch 9/30\n",
      "27/27 [==============================] - 0s 2ms/step - loss: 0.8440 - accuracy: 0.5584\n",
      "Epoch 10/30\n",
      "27/27 [==============================] - 0s 2ms/step - loss: 0.7814 - accuracy: 0.5969\n",
      "Epoch 11/30\n",
      "27/27 [==============================] - 0s 2ms/step - loss: 0.7280 - accuracy: 0.6299\n",
      "Epoch 12/30\n",
      "27/27 [==============================] - 0s 2ms/step - loss: 0.7120 - accuracy: 0.6978\n",
      "Epoch 13/30\n",
      "27/27 [==============================] - 0s 2ms/step - loss: 0.6735 - accuracy: 0.7074\n",
      "Epoch 14/30\n",
      "27/27 [==============================] - 0s 2ms/step - loss: 0.6669 - accuracy: 0.7203\n",
      "Epoch 15/30\n",
      "27/27 [==============================] - 0s 2ms/step - loss: 0.6431 - accuracy: 0.6837\n",
      "Epoch 16/30\n",
      "27/27 [==============================] - 0s 2ms/step - loss: 0.6109 - accuracy: 0.8157\n",
      "Epoch 17/30\n",
      "27/27 [==============================] - 0s 2ms/step - loss: 0.6360 - accuracy: 0.7350\n",
      "Epoch 18/30\n",
      "27/27 [==============================] - 0s 1ms/step - loss: 0.6430 - accuracy: 0.7476\n",
      "Epoch 19/30\n",
      "27/27 [==============================] - 0s 2ms/step - loss: 0.6947 - accuracy: 0.7482\n",
      "Epoch 20/30\n",
      "27/27 [==============================] - 0s 2ms/step - loss: 0.6145 - accuracy: 0.7931\n",
      "Epoch 21/30\n",
      "27/27 [==============================] - 0s 2ms/step - loss: 0.6596 - accuracy: 0.7244\n",
      "Epoch 22/30\n",
      "27/27 [==============================] - 0s 2ms/step - loss: 0.5468 - accuracy: 0.8138\n",
      "Epoch 23/30\n",
      "27/27 [==============================] - 0s 2ms/step - loss: 0.4697 - accuracy: 0.8600\n",
      "Epoch 24/30\n",
      "27/27 [==============================] - 0s 2ms/step - loss: 0.6098 - accuracy: 0.8085\n",
      "Epoch 25/30\n",
      "27/27 [==============================] - 0s 2ms/step - loss: 0.5106 - accuracy: 0.8027\n",
      "Epoch 26/30\n",
      "27/27 [==============================] - 0s 2ms/step - loss: 0.4135 - accuracy: 0.8765\n",
      "Epoch 27/30\n",
      "27/27 [==============================] - 0s 1ms/step - loss: 0.4395 - accuracy: 0.8550\n",
      "Epoch 28/30\n",
      "27/27 [==============================] - 0s 2ms/step - loss: 0.4340 - accuracy: 0.8470\n",
      "Epoch 29/30\n",
      "27/27 [==============================] - 0s 2ms/step - loss: 0.5094 - accuracy: 0.7981\n",
      "Epoch 30/30\n",
      "27/27 [==============================] - 0s 2ms/step - loss: 0.4127 - accuracy: 0.8791\n",
      "5/5 [==============================] - 0s 2ms/step - loss: 0.6606 - accuracy: 0.7368\n",
      "0.7368420958518982\n",
      "2/2 [==============================] - 0s 3ms/step - loss: 0.6426 - accuracy: 0.7556\n",
      "0.7555555701255798\n"
     ]
    },
    {
     "data": {
      "image/png": "[encoded data removed]",
      "text/plain": [
       "<Figure size 432x288 with 1 Axes>"
      ]
     },
     "metadata": {
      "needs_background": "light"
     },
     "output_type": "display_data"
    },
    {
     "data": {
      "image/png": "[encoded data removed]",
      "text/plain": [
       "<Figure size 432x288 with 1 Axes>"
      ]
     },
     "metadata": {
      "needs_background": "light"
     },
     "output_type": "display_data"
    }
   ],
   "source": [
    "# 통합 코드\n",
    "from sklearn import datasets\n",
    "from tensorflow.keras.utils import to_categorical\n",
    "from sklearn.model_selection import train_test_split\n",
    "\n",
    "import numpy as np\n",
    "import tensorflow as tf\n",
    "\n",
    "from tensorflow.keras.models import Sequential\n",
    "from tensorflow.keras.layers import Dense\n",
    "from tensorflow.keras.layers import BatchNormalization\n",
    "from tensorflow.keras.layers import Activation\n",
    "\n",
    "import matplotlib.pyplot as plt\n",
    "\n",
    "# 랜덤 시드 설정\n",
    "np.random.seed(0)\n",
    "tf.random.set_seed(0)\n",
    "\n",
    "# 데이터 불러오기\n",
    "raw_wine = datasets.load_wine()\n",
    "\n",
    "# 피쳐, 타겟 데이터 지정\n",
    "X = raw_wine.data\n",
    "y = raw_wine.target\n",
    "\n",
    "# 피쳐 데이터 차원 확인\n",
    "print(X.shape)\n",
    "\n",
    "# 타겟 데이터 종류 확인\n",
    "print(set(y))\n",
    "\n",
    "# 타겟 데이터 원-핫 인코딩\n",
    "y_hot = to_categorical(y) \n",
    "\n",
    "# 트레이닝/테스트 데이터 분할\n",
    "X_tn, X_te, y_tn, y_te=train_test_split(X, y_hot, \n",
    "                                        random_state=0)\n",
    "\n",
    "# 신경망 생성\n",
    "n_feat = X_tn.shape[1]\n",
    "n_class = len(set(y))\n",
    "epo = 30\n",
    "\n",
    "model = Sequential()\n",
    "model.add(Dense(20, input_dim=n_feat))\n",
    "model.add(BatchNormalization())\n",
    "model.add(Activation('relu'))\n",
    "model.add(Dense(n_class))\n",
    "model.add(Activation('softmax'))\n",
    "\n",
    "# 신경망 모형 구조 확인\n",
    "model.summary()\n",
    "\n",
    "# 모형 컴파일\n",
    "model.compile(loss='categorical_crossentropy', \n",
    "              optimizer='adam', \n",
    "              metrics=['accuracy'])\n",
    "\n",
    "# 신경망 학습\n",
    "hist = model.fit(X_tn, y_tn, epochs=epo, batch_size=5)\n",
    "\n",
    "# 트레이닝 데이터 평가\n",
    "print(model.evaluate(X_tn, y_tn)[1])\n",
    "\n",
    "# 테스트 데이터 평가\n",
    "print(model.evaluate(X_te, y_te)[1])\n",
    "\n",
    "\n",
    "epoch = np.arange(1,epo+1)\n",
    "accuracy = hist.history['accuracy'] \n",
    "loss = hist.history['loss'] \n",
    "\n",
    "# 정확도 학습 그래프\n",
    "plt.plot(epoch, accuracy, label='accuracy')\n",
    "plt.xlabel('epoch')\n",
    "plt.ylabel('accuracy')\n",
    "plt.legend()\n",
    "plt.show()\n",
    "\n",
    "# 손실 그래프\n",
    "plt.plot(epoch, loss,'r', label='loss')\n",
    "plt.xlabel('epoch')\n",
    "plt.ylabel('loss')\n",
    "plt.legend()\n",
    "plt.show()"
   ]
  },
  {
   "cell_type": "code",
   "execution_count": null,
   "metadata": {},
   "outputs": [],
   "source": []
  }
 ],
 "metadata": {
  "kernelspec": {
   "display_name": "Python 3",
   "language": "python",
   "name": "python3"
  },
  "language_info": {
   "codemirror_mode": {
    "name": "ipython",
    "version": 3
   },
   "file_extension": ".py",
   "mimetype": "text/x-python",
   "name": "python",
   "nbconvert_exporter": "python",
   "pygments_lexer": "ipython3",
   "version": "3.8.5"
  }
 },
 "nbformat": 4,
 "nbformat_minor": 4
}
