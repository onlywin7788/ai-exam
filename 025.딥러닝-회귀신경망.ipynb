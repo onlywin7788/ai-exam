{
 "cells": [
  {
   "cell_type": "code",
   "execution_count": 1,
   "metadata": {},
   "outputs": [],
   "source": [
    "# 랜덤 시드 설정\n",
    "import numpy as np\n",
    "import tensorflow as tf\n",
    "np.random.seed(0)\n",
    "tf.random.set_seed(0)"
   ]
  },
  {
   "cell_type": "code",
   "execution_count": 2,
   "metadata": {},
   "outputs": [],
   "source": [
    "# 데이터 불러오기\n",
    "from sklearn import datasets\n",
    "raw_boston = datasets.load_boston()"
   ]
  },
  {
   "cell_type": "code",
   "execution_count": 3,
   "metadata": {},
   "outputs": [],
   "source": [
    "# 피쳐, 타겟 데이터 지정\n",
    "X = raw_boston.data\n",
    "y = raw_boston.target"
   ]
  },
  {
   "cell_type": "code",
   "execution_count": 4,
   "metadata": {},
   "outputs": [
    {
     "name": "stdout",
     "output_type": "stream",
     "text": [
      "(506, 13)\n"
     ]
    }
   ],
   "source": [
    "# 피쳐 데이터 차원 확인\n",
    "print(X.shape)"
   ]
  },
  {
   "cell_type": "code",
   "execution_count": 5,
   "metadata": {},
   "outputs": [
    {
     "name": "stdout",
     "output_type": "stream",
     "text": [
      "{5.0, 6.3, 7.2, 8.8, 7.4, 10.2, 11.8, 12.7, 13.6, 14.5, 15.0, 16.5, 17.5, 18.9, 18.2, 20.4, 21.6, 22.9, 21.7, 24.0, 19.9, 26.6, 26.5, 27.5, 23.1, 27.1, 28.7, 24.7, 30.8, 33.4, 34.7, 34.9, 36.2, 35.4, 31.6, 33.0, 38.7, 33.2, 43.8, 41.3, 37.2, 39.8, 42.3, 48.5, 44.8, 50.0, 46.7, 48.3, 44.0, 48.8, 46.0, 10.5, 11.5, 11.0, 12.5, 12.0, 13.5, 13.0, 14.0, 16.6, 16.0, 16.1, 16.4, 17.4, 17.1, 17.0, 17.6, 17.9, 18.4, 18.6, 18.5, 18.0, 18.1, 19.6, 19.4, 19.5, 19.1, 19.0, 20.0, 20.5, 20.9, 20.6, 20.1, 21.0, 21.4, 21.5, 21.9, 21.1, 22.0, 22.5, 22.6, 22.4, 22.1, 23.4, 23.5, 23.9, 23.6, 23.0, 24.1, 24.6, 24.4, 24.5, 25.0, 25.1, 26.4, 27.0, 27.9, 28.0, 28.4, 28.1, 28.5, 28.6, 29.4, 29.9, 29.6, 29.1, 29.0, 30.5, 30.1, 31.1, 31.5, 31.0, 32.5, 32.0, 32.9, 32.4, 32.2, 33.3, 33.8, 33.1, 32.7, 8.4, 34.6, 35.2, 35.1, 10.4, 10.9, 7.0, 36.4, 36.0, 36.5, 36.1, 11.9, 37.9, 37.0, 37.6, 37.3, 13.9, 13.4, 14.4, 14.9, 15.4, 8.5, 41.7, 42.8, 43.1, 43.5, 45.4, 9.5, 8.3, 8.7, 9.7, 10.8, 11.3, 11.7, 12.3, 12.8, 13.2, 13.3, 13.8, 14.8, 14.3, 14.2, 15.2, 15.7, 15.3, 16.2, 16.8, 16.3, 16.7, 17.3, 17.8, 17.2, 17.7, 18.7, 18.8, 18.3, 19.3, 19.7, 19.8, 19.2, 20.2, 20.8, 20.3, 20.7, 21.2, 21.8, 22.2, 22.8, 22.7, 22.3, 23.3, 23.8, 23.2, 23.7, 24.8, 24.2, 24.3, 25.3, 25.2, 26.7, 26.2, 7.5, 28.2, 29.8, 30.3, 30.7, 5.6, 31.7, 31.2, 8.1, 9.6, 12.1, 12.6, 13.1, 14.6, 14.1, 15.6, 15.1}\n"
     ]
    }
   ],
   "source": [
    "# 타겟 데이터 종류 확인\n",
    "print(set(y))"
   ]
  },
  {
   "cell_type": "code",
   "execution_count": 6,
   "metadata": {},
   "outputs": [],
   "source": [
    "# 트레이닝/테스트 데이터 분할\n",
    "from sklearn.model_selection import train_test_split\n",
    "X_tn, X_te, y_tn, y_te=train_test_split(X, y, random_state=0)"
   ]
  },
  {
   "cell_type": "code",
   "execution_count": 7,
   "metadata": {},
   "outputs": [],
   "source": [
    "# 신경망 생성\n",
    "from tensorflow.keras.models import Sequential\n",
    "from tensorflow.keras.layers import Dense\n",
    "\n",
    "n_feat = X_tn.shape[1]\n",
    "epo = 30\n",
    "\n",
    "model = Sequential()\n",
    "model.add(Dense(20, input_dim=n_feat, activation='relu'))\n",
    "model.add(Dense(1))"
   ]
  },
  {
   "cell_type": "code",
   "execution_count": 8,
   "metadata": {},
   "outputs": [],
   "source": [
    "# 모형 컴파일\n",
    "model.compile(loss='mean_squared_error', \n",
    "              optimizer='adam', \n",
    "              metrics=['mean_squared_error'])"
   ]
  },
  {
   "cell_type": "code",
   "execution_count": 9,
   "metadata": {},
   "outputs": [
    {
     "name": "stdout",
     "output_type": "stream",
     "text": [
      "Epoch 1/30\n",
      "76/76 [==============================] - 1s 1ms/step - loss: 1097.3818 - mean_squared_error: 1097.3818\n",
      "Epoch 2/30\n",
      "76/76 [==============================] - 0s 1ms/step - loss: 103.8141 - mean_squared_error: 103.8141\n",
      "Epoch 3/30\n",
      "76/76 [==============================] - 0s 1ms/step - loss: 77.5593 - mean_squared_error: 77.5593\n",
      "Epoch 4/30\n",
      "76/76 [==============================] - 0s 1ms/step - loss: 68.6218 - mean_squared_error: 68.6218\n",
      "Epoch 5/30\n",
      "76/76 [==============================] - 0s 1ms/step - loss: 55.6526 - mean_squared_error: 55.6526\n",
      "Epoch 6/30\n",
      "76/76 [==============================] - 0s 1ms/step - loss: 55.9980 - mean_squared_error: 55.9980\n",
      "Epoch 7/30\n",
      "76/76 [==============================] - 0s 1ms/step - loss: 56.1334 - mean_squared_error: 56.1334\n",
      "Epoch 8/30\n",
      "76/76 [==============================] - 0s 1ms/step - loss: 51.2321 - mean_squared_error: 51.2321\n",
      "Epoch 9/30\n",
      "76/76 [==============================] - 0s 1ms/step - loss: 54.8327 - mean_squared_error: 54.8327\n",
      "Epoch 10/30\n",
      "76/76 [==============================] - 0s 1ms/step - loss: 43.9149 - mean_squared_error: 43.9149\n",
      "Epoch 11/30\n",
      "76/76 [==============================] - 0s 1ms/step - loss: 34.3177 - mean_squared_error: 34.3177\n",
      "Epoch 12/30\n",
      "76/76 [==============================] - 0s 1ms/step - loss: 35.5554 - mean_squared_error: 35.5554\n",
      "Epoch 13/30\n",
      "76/76 [==============================] - 0s 1ms/step - loss: 38.7246 - mean_squared_error: 38.7246\n",
      "Epoch 14/30\n",
      "76/76 [==============================] - 0s 1ms/step - loss: 32.3586 - mean_squared_error: 32.3586\n",
      "Epoch 15/30\n",
      "76/76 [==============================] - 0s 1ms/step - loss: 35.9492 - mean_squared_error: 35.9492\n",
      "Epoch 16/30\n",
      "76/76 [==============================] - 0s 1ms/step - loss: 40.7387 - mean_squared_error: 40.7387\n",
      "Epoch 17/30\n",
      "76/76 [==============================] - 0s 1ms/step - loss: 37.6023 - mean_squared_error: 37.6023\n",
      "Epoch 18/30\n",
      "76/76 [==============================] - 0s 1ms/step - loss: 31.1532 - mean_squared_error: 31.1532\n",
      "Epoch 19/30\n",
      "76/76 [==============================] - 0s 1ms/step - loss: 32.0841 - mean_squared_error: 32.0841\n",
      "Epoch 20/30\n",
      "76/76 [==============================] - 0s 1ms/step - loss: 37.4508 - mean_squared_error: 37.4508\n",
      "Epoch 21/30\n",
      "76/76 [==============================] - 0s 1ms/step - loss: 36.2772 - mean_squared_error: 36.2772\n",
      "Epoch 22/30\n",
      "76/76 [==============================] - 0s 1ms/step - loss: 28.9386 - mean_squared_error: 28.9386\n",
      "Epoch 23/30\n",
      "76/76 [==============================] - 0s 1ms/step - loss: 33.8045 - mean_squared_error: 33.8045\n",
      "Epoch 24/30\n",
      "76/76 [==============================] - 0s 1ms/step - loss: 34.3557 - mean_squared_error: 34.3557\n",
      "Epoch 25/30\n",
      "76/76 [==============================] - 0s 1ms/step - loss: 30.6940 - mean_squared_error: 30.6940\n",
      "Epoch 26/30\n",
      "76/76 [==============================] - 0s 1ms/step - loss: 32.7549 - mean_squared_error: 32.7549\n",
      "Epoch 27/30\n",
      "76/76 [==============================] - 0s 1ms/step - loss: 34.4727 - mean_squared_error: 34.4727\n",
      "Epoch 28/30\n",
      "76/76 [==============================] - 0s 1ms/step - loss: 33.7737 - mean_squared_error: 33.7737\n",
      "Epoch 29/30\n",
      "76/76 [==============================] - 0s 1ms/step - loss: 35.9438 - mean_squared_error: 35.9438\n",
      "Epoch 30/30\n",
      "76/76 [==============================] - 0s 1ms/step - loss: 31.7722 - mean_squared_error: 31.7722\n"
     ]
    }
   ],
   "source": [
    "# 신경망 학습\n",
    "hist = model.fit(X_tn, y_tn, epochs=epo, batch_size=5)"
   ]
  },
  {
   "cell_type": "code",
   "execution_count": 10,
   "metadata": {},
   "outputs": [
    {
     "name": "stdout",
     "output_type": "stream",
     "text": [
      "12/12 [==============================] - 0s 1ms/step - loss: 51.5559 - mean_squared_error: 51.5559\n",
      "51.55585861206055\n"
     ]
    }
   ],
   "source": [
    "# 트레이닝 데이터 평가\n",
    "print(model.evaluate(X_tn, y_tn)[1])"
   ]
  },
  {
   "cell_type": "code",
   "execution_count": 11,
   "metadata": {},
   "outputs": [
    {
     "name": "stdout",
     "output_type": "stream",
     "text": [
      "4/4 [==============================] - 0s 2ms/step - loss: 73.9727 - mean_squared_error: 73.9727\n",
      "73.97270965576172\n"
     ]
    }
   ],
   "source": [
    "# 테스트 데이터 평가\n",
    "print(model.evaluate(X_te, y_te)[1])"
   ]
  },
  {
   "cell_type": "code",
   "execution_count": 12,
   "metadata": {},
   "outputs": [
    {
     "name": "stdout",
     "output_type": "stream",
     "text": [
      "[ 1  2  3  4  5  6  7  8  9 10 11 12 13 14 15 16 17 18 19 20 21 22 23 24\n",
      " 25 26 27 28 29 30]\n"
     ]
    }
   ],
   "source": [
    "import numpy as np\n",
    "epoch = np.arange(1,epo+1)\n",
    "print(epoch)"
   ]
  },
  {
   "cell_type": "code",
   "execution_count": 13,
   "metadata": {},
   "outputs": [
    {
     "name": "stdout",
     "output_type": "stream",
     "text": [
      "[474.8179931640625, 97.47370910644531, 81.16605377197266, 72.60588836669922, 63.10710144042969, 57.30556869506836, 53.324825286865234, 48.03045654296875, 44.41232681274414, 44.62459182739258, 39.88541030883789, 37.467735290527344, 37.210079193115234, 34.657989501953125, 35.22400665283203, 37.2569580078125, 36.620094299316406, 35.4106330871582, 33.90781021118164, 34.473819732666016, 36.57754135131836, 35.87944793701172, 34.442447662353516, 35.37887954711914, 33.260353088378906, 36.97323226928711, 31.00060272216797, 34.85820770263672, 32.477012634277344, 31.69068717956543]\n"
     ]
    }
   ],
   "source": [
    "mse = hist.history['mean_squared_error'] \n",
    "print(mse)"
   ]
  },
  {
   "cell_type": "code",
   "execution_count": 14,
   "metadata": {},
   "outputs": [
    {
     "name": "stdout",
     "output_type": "stream",
     "text": [
      "[474.8179931640625, 97.47370910644531, 81.16605377197266, 72.60588836669922, 63.10710144042969, 57.30556869506836, 53.324825286865234, 48.03045654296875, 44.41232681274414, 44.62459182739258, 39.88541030883789, 37.467735290527344, 37.210079193115234, 34.657989501953125, 35.22400665283203, 37.2569580078125, 36.620094299316406, 35.4106330871582, 33.90781021118164, 34.473819732666016, 36.57754135131836, 35.87944793701172, 34.442447662353516, 35.37887954711914, 33.260353088378906, 36.97323226928711, 31.00060272216797, 34.85820770263672, 32.477012634277344, 31.69068717956543]\n"
     ]
    }
   ],
   "source": [
    "loss = hist.history['loss'] \n",
    "print(loss)"
   ]
  },
  {
   "cell_type": "code",
   "execution_count": 15,
   "metadata": {},
   "outputs": [
    {
     "data": {
      "image/png": "[encoded data removed]",
      "text/plain": [
       "<Figure size 432x288 with 1 Axes>"
      ]
     },
     "metadata": {
      "needs_background": "light"
     },
     "output_type": "display_data"
    }
   ],
   "source": [
    "# MSE 학습 그래프\n",
    "import matplotlib.pyplot as plt\n",
    "plt.plot(epoch, mse, label='mse')\n",
    "plt.xlabel('epoch')\n",
    "plt.ylabel('mean_squred_error')\n",
    "plt.legend()\n",
    "plt.show()"
   ]
  },
  {
   "cell_type": "code",
   "execution_count": 16,
   "metadata": {},
   "outputs": [
    {
     "data": {
      "image/png": "[encoded data removed]",
      "text/plain": [
       "<Figure size 432x288 with 1 Axes>"
      ]
     },
     "metadata": {
      "needs_background": "light"
     },
     "output_type": "display_data"
    }
   ],
   "source": [
    "# 손실 학습 그래프\n",
    "import matplotlib.pyplot as plt\n",
    "plt.plot(epoch, loss, 'r', label='loss')\n",
    "plt.xlabel('epoch')\n",
    "plt.ylabel('loss')\n",
    "plt.legend()\n",
    "plt.show()"
   ]
  },
  {
   "cell_type": "code",
   "execution_count": 17,
   "metadata": {},
   "outputs": [
    {
     "name": "stdout",
     "output_type": "stream",
     "text": [
      "[14.926869  17.68186   26.267515   7.9176764 15.005162  20.3347\n",
      " 11.632012  22.128683  13.236665   7.8890853  5.1157737  9.617932\n",
      " 10.792634   2.5619786 33.26321   22.726948  13.689977  29.558794\n",
      " 24.675909  21.299334  22.893766  17.086306  16.023714  26.365974\n",
      " 21.479944  10.689094  17.379759  11.004298  28.346983  15.011773\n",
      " 10.714349  12.856965  17.735552  20.255516  24.823112  12.987599\n",
      "  4.140405  16.951464   6.411712   6.4219527 22.591547  18.943981\n",
      " 12.9456215  9.773435  17.00799   23.849699  16.26449   14.620786\n",
      "  7.6369276 20.454521   7.7502074 11.073215  18.992071  22.401691\n",
      "  7.765283  15.4073715 17.322489  10.068227  14.971868  18.075165\n",
      " 16.162949  18.72122   24.999449  24.195608   9.034806  24.184462\n",
      " 11.682706  13.9690275  8.437671  20.768162  15.780763  17.593163\n",
      " 26.882385  23.865877  16.9549    -1.263068  27.122019  20.394732\n",
      " 23.056808  16.387411  22.719769  17.167479  14.822953  28.526915\n",
      " 28.235523  21.927996  20.2461     4.7907767 24.334192   9.029687\n",
      "  9.726138   4.301334  23.695465  25.389906  24.684244  17.659801\n",
      " -3.0274074 24.955677   7.9761767 17.916906  20.105276  19.00389\n",
      " 25.384794  17.42633   20.63022   20.279583  -1.1384857 12.069352\n",
      " 23.598524  20.722713  26.477182   5.1498847 15.841168   9.993213\n",
      "  5.0927796 17.211657  -3.8663108 18.96542    5.444448  38.194527\n",
      " 23.669443   7.5923743 15.863923  17.59075   22.656439  18.330114\n",
      " 30.232412 ]\n"
     ]
    }
   ],
   "source": [
    "# 실제값, 예측값 데이터 프레임 생성\n",
    "pred_y = model.predict(X_te).flatten() \n",
    "print(pred_y)"
   ]
  },
  {
   "cell_type": "code",
   "execution_count": 18,
   "metadata": {},
   "outputs": [],
   "source": [
    "import pandas as pd\n",
    "res_df = pd.DataFrame(pred_y, columns=['predict_val'])\n",
    "res_df['real_val'] = y_te"
   ]
  },
  {
   "cell_type": "code",
   "execution_count": 19,
   "metadata": {},
   "outputs": [
    {
     "data": {
      "text/html": [
       "<div>\n",
       "<style scoped>\n",
       "    .dataframe tbody tr th:only-of-type {\n",
       "        vertical-align: middle;\n",
       "    }\n",
       "\n",
       "    .dataframe tbody tr th {\n",
       "        vertical-align: top;\n",
       "    }\n",
       "\n",
       "    .dataframe thead th {\n",
       "        text-align: right;\n",
       "    }\n",
       "</style>\n",
       "<table border=\"1\" class=\"dataframe\">\n",
       "  <thead>\n",
       "    <tr style=\"text-align: right;\">\n",
       "      <th></th>\n",
       "      <th>predict_val</th>\n",
       "      <th>real_val</th>\n",
       "    </tr>\n",
       "  </thead>\n",
       "  <tbody>\n",
       "    <tr>\n",
       "      <th>0</th>\n",
       "      <td>14.926869</td>\n",
       "      <td>22.6</td>\n",
       "    </tr>\n",
       "    <tr>\n",
       "      <th>1</th>\n",
       "      <td>17.681860</td>\n",
       "      <td>50.0</td>\n",
       "    </tr>\n",
       "    <tr>\n",
       "      <th>2</th>\n",
       "      <td>26.267515</td>\n",
       "      <td>23.0</td>\n",
       "    </tr>\n",
       "  </tbody>\n",
       "</table>\n",
       "</div>"
      ],
      "text/plain": [
       "   predict_val  real_val\n",
       "0    14.926869      22.6\n",
       "1    17.681860      50.0\n",
       "2    26.267515      23.0"
      ]
     },
     "execution_count": 19,
     "metadata": {},
     "output_type": "execute_result"
    }
   ],
   "source": [
    "res_df.head(3)"
   ]
  },
  {
   "cell_type": "code",
   "execution_count": 20,
   "metadata": {},
   "outputs": [],
   "source": [
    "df_sort = res_df.sort_values([\"predict_val\"], \n",
    "                             ascending=True)"
   ]
  },
  {
   "cell_type": "code",
   "execution_count": 24,
   "metadata": {},
   "outputs": [
    {
     "data": {
      "text/html": [
       "<div>\n",
       "<style scoped>\n",
       "    .dataframe tbody tr th:only-of-type {\n",
       "        vertical-align: middle;\n",
       "    }\n",
       "\n",
       "    .dataframe tbody tr th {\n",
       "        vertical-align: top;\n",
       "    }\n",
       "\n",
       "    .dataframe thead th {\n",
       "        text-align: right;\n",
       "    }\n",
       "</style>\n",
       "<table border=\"1\" class=\"dataframe\">\n",
       "  <thead>\n",
       "    <tr style=\"text-align: right;\">\n",
       "      <th></th>\n",
       "      <th>predict_val</th>\n",
       "      <th>real_val</th>\n",
       "    </tr>\n",
       "  </thead>\n",
       "  <tbody>\n",
       "    <tr>\n",
       "      <th>116</th>\n",
       "      <td>-3.866311</td>\n",
       "      <td>8.4</td>\n",
       "    </tr>\n",
       "    <tr>\n",
       "      <th>96</th>\n",
       "      <td>-3.027407</td>\n",
       "      <td>13.8</td>\n",
       "    </tr>\n",
       "    <tr>\n",
       "      <th>75</th>\n",
       "      <td>-1.263068</td>\n",
       "      <td>7.4</td>\n",
       "    </tr>\n",
       "  </tbody>\n",
       "</table>\n",
       "</div>"
      ],
      "text/plain": [
       "     predict_val  real_val\n",
       "116    -3.866311       8.4\n",
       "96     -3.027407      13.8\n",
       "75     -1.263068       7.4"
      ]
     },
     "execution_count": 24,
     "metadata": {},
     "output_type": "execute_result"
    }
   ],
   "source": [
    "df_sort.head(3)"
   ]
  },
  {
   "cell_type": "code",
   "execution_count": 25,
   "metadata": {},
   "outputs": [
    {
     "data": {
      "text/plain": [
       "127"
      ]
     },
     "execution_count": 25,
     "metadata": {},
     "output_type": "execute_result"
    }
   ],
   "source": [
    "len(df_sort)"
   ]
  },
  {
   "cell_type": "code",
   "execution_count": 26,
   "metadata": {},
   "outputs": [
    {
     "data": {
      "image/png": "[encoded data removed]",
      "text/plain": [
       "<Figure size 432x288 with 1 Axes>"
      ]
     },
     "metadata": {
      "needs_background": "light"
     },
     "output_type": "display_data"
    }
   ],
   "source": [
    "# 예측값 실제값 그래프\n",
    "import matplotlib.pyplot as plt\n",
    "import numpy as np\n",
    "idx = np.arange(1,len(df_sort)+1)\n",
    "plt.scatter(idx, df_sort['real_val'], \n",
    "            marker='o', \n",
    "            label='real_val')\n",
    "plt.plot(idx, df_sort['predict_val'], \n",
    "         color='r', \n",
    "         label='predict_val')\n",
    "plt.xlabel('index')\n",
    "plt.ylabel('value')\n",
    "plt.legend()\n",
    "plt.show()"
   ]
  },
  {
   "cell_type": "code",
   "execution_count": 27,
   "metadata": {},
   "outputs": [
    {
     "name": "stdout",
     "output_type": "stream",
     "text": [
      "(506, 13)\n",
      "{5.0, 6.3, 7.2, 8.8, 7.4, 10.2, 11.8, 12.7, 13.6, 14.5, 15.0, 16.5, 17.5, 18.9, 18.2, 20.4, 21.6, 22.9, 21.7, 24.0, 19.9, 26.6, 26.5, 27.5, 23.1, 27.1, 28.7, 24.7, 30.8, 33.4, 34.7, 34.9, 36.2, 35.4, 31.6, 33.0, 38.7, 33.2, 43.8, 41.3, 37.2, 39.8, 42.3, 48.5, 44.8, 50.0, 46.7, 48.3, 44.0, 48.8, 46.0, 10.5, 11.5, 11.0, 12.5, 12.0, 13.5, 13.0, 14.0, 16.6, 16.0, 16.1, 16.4, 17.4, 17.1, 17.0, 17.6, 17.9, 18.4, 18.6, 18.5, 18.0, 18.1, 19.6, 19.4, 19.5, 19.1, 19.0, 20.0, 20.5, 20.9, 20.6, 20.1, 21.0, 21.4, 21.5, 21.9, 21.1, 22.0, 22.5, 22.6, 22.4, 22.1, 23.4, 23.5, 23.9, 23.6, 23.0, 24.1, 24.6, 24.4, 24.5, 25.0, 25.1, 26.4, 27.0, 27.9, 28.0, 28.4, 28.1, 28.5, 28.6, 29.4, 29.9, 29.6, 29.1, 29.0, 30.5, 30.1, 31.1, 31.5, 31.0, 32.5, 32.0, 32.9, 32.4, 32.2, 33.3, 33.8, 33.1, 32.7, 8.4, 34.6, 35.2, 35.1, 10.4, 10.9, 7.0, 36.4, 36.0, 36.5, 36.1, 11.9, 37.9, 37.0, 37.6, 37.3, 13.9, 13.4, 14.4, 14.9, 15.4, 8.5, 41.7, 42.8, 43.1, 43.5, 45.4, 9.5, 8.3, 8.7, 9.7, 10.8, 11.3, 11.7, 12.3, 12.8, 13.2, 13.3, 13.8, 14.8, 14.3, 14.2, 15.2, 15.7, 15.3, 16.2, 16.8, 16.3, 16.7, 17.3, 17.8, 17.2, 17.7, 18.7, 18.8, 18.3, 19.3, 19.7, 19.8, 19.2, 20.2, 20.8, 20.3, 20.7, 21.2, 21.8, 22.2, 22.8, 22.7, 22.3, 23.3, 23.8, 23.2, 23.7, 24.8, 24.2, 24.3, 25.3, 25.2, 26.7, 26.2, 7.5, 28.2, 29.8, 30.3, 30.7, 5.6, 31.7, 31.2, 8.1, 9.6, 12.1, 12.6, 13.1, 14.6, 14.1, 15.6, 15.1}\n",
      "Epoch 1/30\n",
      "76/76 [==============================] - 1s 1ms/step - loss: 1097.3818 - mean_squared_error: 1097.3818\n",
      "Epoch 2/30\n",
      "76/76 [==============================] - 0s 1ms/step - loss: 103.8141 - mean_squared_error: 103.8141\n",
      "Epoch 3/30\n",
      "76/76 [==============================] - 0s 1ms/step - loss: 77.5593 - mean_squared_error: 77.5593\n",
      "Epoch 4/30\n",
      "76/76 [==============================] - 0s 1ms/step - loss: 68.6218 - mean_squared_error: 68.6218\n",
      "Epoch 5/30\n",
      "76/76 [==============================] - 0s 1ms/step - loss: 55.6526 - mean_squared_error: 55.6526\n",
      "Epoch 6/30\n",
      "76/76 [==============================] - 0s 1ms/step - loss: 55.9980 - mean_squared_error: 55.9980\n",
      "Epoch 7/30\n",
      "76/76 [==============================] - 0s 1ms/step - loss: 56.1334 - mean_squared_error: 56.1334\n",
      "Epoch 8/30\n",
      "76/76 [==============================] - 0s 1ms/step - loss: 51.2321 - mean_squared_error: 51.2321\n",
      "Epoch 9/30\n",
      "76/76 [==============================] - 0s 1ms/step - loss: 54.8327 - mean_squared_error: 54.8327\n",
      "Epoch 10/30\n",
      "76/76 [==============================] - 0s 1ms/step - loss: 43.9149 - mean_squared_error: 43.9149\n",
      "Epoch 11/30\n",
      "76/76 [==============================] - 0s 1ms/step - loss: 34.3177 - mean_squared_error: 34.3177\n",
      "Epoch 12/30\n",
      "76/76 [==============================] - 0s 1ms/step - loss: 35.5554 - mean_squared_error: 35.5554\n",
      "Epoch 13/30\n",
      "76/76 [==============================] - 0s 1ms/step - loss: 38.7246 - mean_squared_error: 38.7246\n",
      "Epoch 14/30\n",
      "76/76 [==============================] - 0s 1ms/step - loss: 32.3586 - mean_squared_error: 32.3586\n",
      "Epoch 15/30\n",
      "76/76 [==============================] - 0s 1ms/step - loss: 35.9492 - mean_squared_error: 35.9492\n",
      "Epoch 16/30\n",
      "76/76 [==============================] - 0s 1ms/step - loss: 40.7387 - mean_squared_error: 40.7387\n",
      "Epoch 17/30\n",
      "76/76 [==============================] - 0s 1ms/step - loss: 37.6023 - mean_squared_error: 37.6023\n",
      "Epoch 18/30\n",
      "76/76 [==============================] - 0s 1ms/step - loss: 31.1532 - mean_squared_error: 31.1532\n",
      "Epoch 19/30\n",
      "76/76 [==============================] - 0s 1ms/step - loss: 32.0841 - mean_squared_error: 32.0841\n",
      "Epoch 20/30\n",
      "76/76 [==============================] - 0s 1ms/step - loss: 37.4508 - mean_squared_error: 37.4508\n",
      "Epoch 21/30\n",
      "76/76 [==============================] - 0s 1ms/step - loss: 36.2772 - mean_squared_error: 36.2772\n",
      "Epoch 22/30\n",
      "76/76 [==============================] - 0s 1ms/step - loss: 28.9386 - mean_squared_error: 28.9386\n",
      "Epoch 23/30\n",
      "76/76 [==============================] - 0s 1ms/step - loss: 33.8045 - mean_squared_error: 33.8045\n",
      "Epoch 24/30\n",
      "76/76 [==============================] - 0s 1ms/step - loss: 34.3557 - mean_squared_error: 34.3557\n",
      "Epoch 25/30\n",
      "76/76 [==============================] - 0s 1ms/step - loss: 30.6940 - mean_squared_error: 30.6940\n",
      "Epoch 26/30\n",
      "76/76 [==============================] - 0s 1ms/step - loss: 32.7549 - mean_squared_error: 32.7549\n",
      "Epoch 27/30\n",
      "76/76 [==============================] - 0s 1ms/step - loss: 34.4727 - mean_squared_error: 34.4727\n",
      "Epoch 28/30\n",
      "76/76 [==============================] - 0s 1ms/step - loss: 33.7737 - mean_squared_error: 33.7737\n",
      "Epoch 29/30\n",
      "76/76 [==============================] - 0s 1ms/step - loss: 35.9438 - mean_squared_error: 35.9438\n",
      "Epoch 30/30\n",
      "76/76 [==============================] - 0s 1ms/step - loss: 31.7722 - mean_squared_error: 31.7722\n",
      "12/12 [==============================] - 0s 1ms/step - loss: 51.5559 - mean_squared_error: 51.5559\n",
      "51.55585861206055\n",
      "4/4 [==============================] - 0s 2ms/step - loss: 73.9727 - mean_squared_error: 73.9727\n",
      "73.97270965576172\n"
     ]
    },
    {
     "data": {
      "image/png": "[encoded data removed]",
      "text/plain": [
       "<Figure size 432x288 with 1 Axes>"
      ]
     },
     "metadata": {
      "needs_background": "light"
     },
     "output_type": "display_data"
    },
    {
     "data": {
      "image/png": "[encoded data removed]",
      "text/plain": [
       "<Figure size 432x288 with 1 Axes>"
      ]
     },
     "metadata": {
      "needs_background": "light"
     },
     "output_type": "display_data"
    },
    {
     "data": {
      "image/png": "[encoded data removed]",
      "text/plain": [
       "<Figure size 432x288 with 1 Axes>"
      ]
     },
     "metadata": {
      "needs_background": "light"
     },
     "output_type": "display_data"
    }
   ],
   "source": [
    "# 통합 코드\n",
    "\n",
    "from sklearn import datasets\n",
    "from sklearn.model_selection import train_test_split\n",
    "\n",
    "import numpy as np\n",
    "import tensorflow as tf\n",
    "\n",
    "from tensorflow.keras.models import Sequential\n",
    "from tensorflow.keras.layers import Dense\n",
    "\n",
    "import matplotlib.pyplot as plt\n",
    "import pandas as pd\n",
    "\n",
    "# 랜덤 시드 설정\n",
    "np.random.seed(0)\n",
    "tf.random.set_seed(0)\n",
    "\n",
    "# 데이터 불러오기\n",
    "raw_boston = datasets.load_boston()\n",
    "\n",
    "# 피쳐, 타겟 데이터 지정\n",
    "X = raw_boston.data\n",
    "y = raw_boston.target\n",
    "\n",
    "# 피쳐 데이터 차원 확인\n",
    "print(X.shape)\n",
    "\n",
    "# 타겟 데이터 종류 확인\n",
    "print(set(y))\n",
    "\n",
    "# 트레이닝/테스트 데이터 분할\n",
    "X_tn, X_te, y_tn, y_te=train_test_split(X, y, random_state=0)\n",
    "\n",
    "# 신경망 생성\n",
    "n_feat = X_tn.shape[1]\n",
    "epo = 30\n",
    "\n",
    "model = Sequential()\n",
    "model.add(Dense(20, input_dim=n_feat, activation='relu'))\n",
    "model.add(Dense(1))\n",
    "\n",
    "# 모형 컴파일\n",
    "model.compile(loss='mean_squared_error', \n",
    "              optimizer='adam', \n",
    "              metrics=['mean_squared_error'])\n",
    "\n",
    "# 신경망 학습\n",
    "hist = model.fit(X_tn, y_tn, epochs=epo, batch_size=5)\n",
    "\n",
    "# 트레이닝 데이터 평가\n",
    "print(model.evaluate(X_tn, y_tn)[1])\n",
    "\n",
    "# 테스트 데이터 평가\n",
    "print(model.evaluate(X_te, y_te)[1])\n",
    "\n",
    "epoch = np.arange(1,epo+1)\n",
    "mse = hist.history['mean_squared_error'] \n",
    "loss = hist.history['loss'] \n",
    "\n",
    "# MSE 학습 그래프\n",
    "plt.plot(epoch, mse, label='mse')\n",
    "plt.xlabel('epoch')\n",
    "plt.ylabel('mean_squred_error')\n",
    "plt.legend()\n",
    "plt.show()\n",
    "\n",
    "# 손실 학습 그래프\n",
    "plt.plot(epoch, loss, 'r', label='loss')\n",
    "plt.xlabel('epoch')\n",
    "plt.ylabel('loss')\n",
    "plt.legend()\n",
    "plt.show()\n",
    "\n",
    "# 실제값, 예측값 데이터 프레임 생성\n",
    "pred_y = model.predict(X_te).flatten() \n",
    "res_df = pd.DataFrame(pred_y, columns=['predict_val'])\n",
    "res_df['real_val'] = y_te\n",
    "df_sort = res_df.sort_values([\"predict_val\"], \n",
    "                             ascending=True)\n",
    "\n",
    "# 예측값 실제값 그래프\n",
    "idx = np.arange(1,len(df_sort)+1)\n",
    "plt.scatter(idx, df_sort['real_val'], \n",
    "            marker='o', \n",
    "            label='real_val')\n",
    "plt.plot(idx, df_sort['predict_val'], \n",
    "         color='r',\n",
    "         label='predict_val')\n",
    "plt.xlabel('index')\n",
    "plt.ylabel('value')\n",
    "plt.legend()\n",
    "plt.show()"
   ]
  },
  {
   "cell_type": "code",
   "execution_count": null,
   "metadata": {},
   "outputs": [],
   "source": []
  }
 ],
 "metadata": {
  "kernelspec": {
   "display_name": "Python 3",
   "language": "python",
   "name": "python3"
  },
  "language_info": {
   "codemirror_mode": {
    "name": "ipython",
    "version": 3
   },
   "file_extension": ".py",
   "mimetype": "text/x-python",
   "name": "python",
   "nbconvert_exporter": "python",
   "pygments_lexer": "ipython3",
   "version": "3.8.5"
  }
 },
 "nbformat": 4,
 "nbformat_minor": 4
}
