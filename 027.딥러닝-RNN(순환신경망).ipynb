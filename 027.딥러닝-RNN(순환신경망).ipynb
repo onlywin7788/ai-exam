{
 "cells": [
  {
   "cell_type": "markdown",
   "metadata": {},
   "source": [
    "# 개별 코드"
   ]
  },
  {
   "cell_type": "code",
   "execution_count": 1,
   "metadata": {},
   "outputs": [],
   "source": [
    "# 랜덤 시드 설정\n",
    "import numpy as np\n",
    "import tensorflow as tf\n",
    "np.random.seed(0)\n",
    "tf.random.set_seed(0)"
   ]
  },
  {
   "cell_type": "code",
   "execution_count": 2,
   "metadata": {},
   "outputs": [
    {
     "name": "stdout",
     "output_type": "stream",
     "text": [
      "Downloading data from https://storage.googleapis.com/tensorflow/tf-keras-datasets/imdb.npz\n",
      "17465344/17464789 [==============================] - 1s 0us/step\n"
     ]
    },
    {
     "name": "stderr",
     "output_type": "stream",
     "text": [
      "<__array_function__ internals>:5: VisibleDeprecationWarning: Creating an ndarray from ragged nested sequences (which is a list-or-tuple of lists-or-tuples-or ndarrays with different lengths or shapes) is deprecated. If you meant to do this, you must specify 'dtype=object' when creating the ndarray\n",
      "C:\\Users\\onlywin7788\\anaconda3\\lib\\site-packages\\tensorflow\\python\\keras\\datasets\\imdb.py:159: VisibleDeprecationWarning: Creating an ndarray from ragged nested sequences (which is a list-or-tuple of lists-or-tuples-or ndarrays with different lengths or shapes) is deprecated. If you meant to do this, you must specify 'dtype=object' when creating the ndarray\n",
      "  x_train, y_train = np.array(xs[:idx]), np.array(labels[:idx])\n",
      "C:\\Users\\onlywin7788\\anaconda3\\lib\\site-packages\\tensorflow\\python\\keras\\datasets\\imdb.py:160: VisibleDeprecationWarning: Creating an ndarray from ragged nested sequences (which is a list-or-tuple of lists-or-tuples-or ndarrays with different lengths or shapes) is deprecated. If you meant to do this, you must specify 'dtype=object' when creating the ndarray\n",
      "  x_test, y_test = np.array(xs[idx:]), np.array(labels[idx:])\n"
     ]
    }
   ],
   "source": [
    "# 데이터 불러오기\n",
    "from tensorflow.keras.datasets import imdb\n",
    "(X_tn0,y_tn0),(X_te0,y_test)=imdb.load_data(num_words=2000)"
   ]
  },
  {
   "cell_type": "code",
   "execution_count": 3,
   "metadata": {},
   "outputs": [
    {
     "name": "stdout",
     "output_type": "stream",
     "text": [
      "(25000,)\n",
      "(25000,)\n",
      "(25000,)\n",
      "(25000,)\n"
     ]
    }
   ],
   "source": [
    "# 원본 데이터 차원 확인\n",
    "print(X_tn0.shape)\n",
    "print(y_tn0.shape)\n",
    "print(X_te0.shape)\n",
    "print(y_test.shape)"
   ]
  },
  {
   "cell_type": "code",
   "execution_count": 5,
   "metadata": {},
   "outputs": [],
   "source": [
    "# 트레이닝/밸리데이션셋 분리\n",
    "X_train = X_tn0[0:20000]\n",
    "y_train = y_tn0[0:20000]\n",
    "X_valid = X_tn0[20000:25000]\n",
    "y_valid = y_tn0[20000:25000]"
   ]
  },
  {
   "cell_type": "code",
   "execution_count": 6,
   "metadata": {},
   "outputs": [
    {
     "name": "stdout",
     "output_type": "stream",
     "text": [
      "(20000,)\n",
      "(20000,)\n",
      "(5000,)\n",
      "(5000,)\n"
     ]
    }
   ],
   "source": [
    "print(X_train.shape)\n",
    "print(y_train.shape)\n",
    "print(X_valid.shape)\n",
    "print(y_valid.shape)"
   ]
  },
  {
   "cell_type": "code",
   "execution_count": 7,
   "metadata": {},
   "outputs": [
    {
     "name": "stdout",
     "output_type": "stream",
     "text": [
      "[1, 14, 22, 16, 43, 530, 973, 1622, 1385, 65, 458, 2, 66, 2, 4, 173, 36, 256, 5, 25, 100, 43, 838, 112, 50, 670, 2, 9, 35, 480, 284, 5, 150, 4, 172, 112, 167, 2, 336, 385, 39, 4, 172, 2, 1111, 17, 546, 38, 13, 447, 4, 192, 50, 16, 6, 147, 2, 19, 14, 22, 4, 1920, 2, 469, 4, 22, 71, 87, 12, 16, 43, 530, 38, 76, 15, 13, 1247, 4, 22, 17, 515, 17, 12, 16, 626, 18, 2, 5, 62, 386, 12, 8, 316, 8, 106, 5, 4, 2, 2, 16, 480, 66, 2, 33, 4, 130, 12, 16, 38, 619, 5, 25, 124, 51, 36, 135, 48, 25, 1415, 33, 6, 22, 12, 215, 28, 77, 52, 5, 14, 407, 16, 82, 2, 8, 4, 107, 117, 2, 15, 256, 4, 2, 7, 2, 5, 723, 36, 71, 43, 530, 476, 26, 400, 317, 46, 7, 4, 2, 1029, 13, 104, 88, 4, 381, 15, 297, 98, 32, 2, 56, 26, 141, 6, 194, 2, 18, 4, 226, 22, 21, 134, 476, 26, 480, 5, 144, 30, 2, 18, 51, 36, 28, 224, 92, 25, 104, 4, 226, 65, 16, 38, 1334, 88, 12, 16, 283, 5, 16, 2, 113, 103, 32, 15, 16, 2, 19, 178, 32]\n"
     ]
    }
   ],
   "source": [
    "# 피쳐 데이터 형태 확인\n",
    "print(X_train[0])"
   ]
  },
  {
   "cell_type": "code",
   "execution_count": 8,
   "metadata": {},
   "outputs": [
    {
     "name": "stdout",
     "output_type": "stream",
     "text": [
      "218\n",
      "189\n"
     ]
    }
   ],
   "source": [
    "# 개별 피쳐 크기 확인\n",
    "print(len(X_train[0]))\n",
    "print(len(X_train[1]))"
   ]
  },
  {
   "cell_type": "code",
   "execution_count": 9,
   "metadata": {},
   "outputs": [
    {
     "name": "stdout",
     "output_type": "stream",
     "text": [
      "{0, 1}\n",
      "2\n"
     ]
    }
   ],
   "source": [
    "# 타겟 클래스 확인\n",
    "print(set(y_test))\n",
    "print(len(set(y_test)))"
   ]
  },
  {
   "cell_type": "code",
   "execution_count": 10,
   "metadata": {},
   "outputs": [],
   "source": [
    "# 피쳐 데이터 변형\n",
    "from tensorflow.keras.preprocessing import sequence\n",
    "X_train = sequence.pad_sequences(X_train, maxlen=100)\n",
    "X_valid = sequence.pad_sequences(X_valid, maxlen=100)\n",
    "X_test = sequence.pad_sequences(X_te0, maxlen=100)"
   ]
  },
  {
   "cell_type": "code",
   "execution_count": 11,
   "metadata": {},
   "outputs": [
    {
     "name": "stdout",
     "output_type": "stream",
     "text": [
      "(20000, 100)\n",
      "(5000, 100)\n",
      "(25000, 100)\n"
     ]
    }
   ],
   "source": [
    "print(X_train.shape)\n",
    "print(X_valid.shape)\n",
    "print(X_test.shape)"
   ]
  },
  {
   "cell_type": "code",
   "execution_count": 12,
   "metadata": {},
   "outputs": [
    {
     "name": "stdout",
     "output_type": "stream",
     "text": [
      "Model: \"sequential\"\n",
      "_________________________________________________________________\n",
      "Layer (type)                 Output Shape              Param #   \n",
      "=================================================================\n",
      "embedding (Embedding)        (None, None, 100)         200000    \n",
      "_________________________________________________________________\n",
      "conv1d (Conv1D)              (None, None, 50)          15050     \n",
      "_________________________________________________________________\n",
      "max_pooling1d (MaxPooling1D) (None, None, 50)          0         \n",
      "_________________________________________________________________\n",
      "lstm (LSTM)                  (None, 100)               60400     \n",
      "_________________________________________________________________\n",
      "dropout (Dropout)            (None, 100)               0         \n",
      "_________________________________________________________________\n",
      "dense (Dense)                (None, 1)                 101       \n",
      "=================================================================\n",
      "Total params: 275,551\n",
      "Trainable params: 275,551\n",
      "Non-trainable params: 0\n",
      "_________________________________________________________________\n"
     ]
    }
   ],
   "source": [
    "# LSTM 모형 생성\n",
    "from tensorflow.keras.models import Sequential\n",
    "from tensorflow.keras.layers import Dense, LSTM\n",
    "from tensorflow.keras.layers import Embedding\n",
    "from tensorflow.keras.layers import Dropout\n",
    "from tensorflow.keras.layers import Conv1D\n",
    "from tensorflow.keras.layers import MaxPooling1D\n",
    "\n",
    "\n",
    "model = Sequential()\n",
    "model.add(Embedding(input_dim=2000, output_dim=100))\n",
    "model.add(Conv1D(50, kernel_size=3, \n",
    "                 padding='valid', \n",
    "                 activation='relu'))\n",
    "model.add(MaxPooling1D(pool_size=3))\n",
    "model.add(LSTM(100, activation='tanh'))\n",
    "model.add(Dropout(0.25))\n",
    "model.add(Dense(1, activation='sigmoid'))\n",
    "model.summary()"
   ]
  },
  {
   "cell_type": "code",
   "execution_count": 13,
   "metadata": {},
   "outputs": [],
   "source": [
    "# 모형 컴파일\n",
    "model.compile(loss='binary_crossentropy',\n",
    "              optimizer='adam',\n",
    "              metrics=['accuracy'])"
   ]
  },
  {
   "cell_type": "code",
   "execution_count": 14,
   "metadata": {
    "scrolled": true
   },
   "outputs": [
    {
     "name": "stdout",
     "output_type": "stream",
     "text": [
      "Epoch 1/10\n",
      "200/200 [==============================] - 17s 67ms/step - loss: 0.5739 - accuracy: 0.6634 - val_loss: 0.3881 - val_accuracy: 0.8270\n",
      "Epoch 2/10\n",
      "200/200 [==============================] - 11s 54ms/step - loss: 0.3468 - accuracy: 0.8543 - val_loss: 0.3738 - val_accuracy: 0.8290\n",
      "Epoch 3/10\n",
      "200/200 [==============================] - 11s 54ms/step - loss: 0.2934 - accuracy: 0.8800 - val_loss: 0.3725 - val_accuracy: 0.8310\n",
      "Epoch 4/10\n",
      "200/200 [==============================] - 11s 55ms/step - loss: 0.2487 - accuracy: 0.9032 - val_loss: 0.3865 - val_accuracy: 0.8322\n",
      "Epoch 5/10\n",
      "200/200 [==============================] - 11s 55ms/step - loss: 0.1963 - accuracy: 0.9300 - val_loss: 0.4494 - val_accuracy: 0.8182\n",
      "Epoch 6/10\n",
      "200/200 [==============================] - 11s 54ms/step - loss: 0.1239 - accuracy: 0.9578 - val_loss: 0.4219 - val_accuracy: 0.8222\n",
      "Epoch 7/10\n",
      "200/200 [==============================] - 11s 55ms/step - loss: 0.0900 - accuracy: 0.9733 - val_loss: 0.5526 - val_accuracy: 0.8208\n",
      "Epoch 8/10\n",
      "200/200 [==============================] - 11s 56ms/step - loss: 0.0429 - accuracy: 0.9875 - val_loss: 0.7671 - val_accuracy: 0.8138\n",
      "Epoch 9/10\n",
      "200/200 [==============================] - 11s 55ms/step - loss: 0.0291 - accuracy: 0.9918 - val_loss: 0.8824 - val_accuracy: 0.8168\n",
      "Epoch 10/10\n",
      "200/200 [==============================] - 11s 56ms/step - loss: 0.0181 - accuracy: 0.9939 - val_loss: 0.7751 - val_accuracy: 0.8192\n"
     ]
    }
   ],
   "source": [
    "# 학습\n",
    "hist = model.fit(X_train, y_train, \n",
    "                 batch_size=100, \n",
    "                 epochs=10, \n",
    "                 validation_data=(X_valid, y_valid))"
   ]
  },
  {
   "cell_type": "code",
   "execution_count": 15,
   "metadata": {},
   "outputs": [
    {
     "name": "stdout",
     "output_type": "stream",
     "text": [
      "625/625 [==============================] - 8s 11ms/step - loss: 0.0114 - accuracy: 0.9984\n",
      "0.9983500242233276\n",
      "157/157 [==============================] - 3s 11ms/step - loss: 0.7751 - accuracy: 0.8192\n",
      "0.8191999793052673\n"
     ]
    }
   ],
   "source": [
    "# 트레이닝 데이터 평가\n",
    "print(model.evaluate(X_train, y_train)[1])\n",
    "print(model.evaluate(X_valid, y_valid)[1])"
   ]
  },
  {
   "cell_type": "code",
   "execution_count": 16,
   "metadata": {},
   "outputs": [
    {
     "name": "stdout",
     "output_type": "stream",
     "text": [
      "782/782 [==============================] - 9s 11ms/step - loss: 0.7344 - accuracy: 0.8266\n",
      "0.8266400098800659\n"
     ]
    }
   ],
   "source": [
    "# 테스트 데이터 평가\n",
    "print(model.evaluate(X_test, y_test)[1])"
   ]
  },
  {
   "cell_type": "code",
   "execution_count": 17,
   "metadata": {},
   "outputs": [
    {
     "data": {
      "image/png": "[encoded data removed]",
      "text/plain": [
       "<Figure size 1080x360 with 2 Axes>"
      ]
     },
     "metadata": {
      "needs_background": "light"
     },
     "output_type": "display_data"
    }
   ],
   "source": [
    "# 정확도 학습 그래프\n",
    "import numpy as np\n",
    "epoch = np.arange(1,11)\n",
    "acc_train = hist.history['accuracy'] \n",
    "acc_valid = hist.history['val_accuracy']\n",
    "loss_train = hist.history['loss'] \n",
    "loss_valid = hist.history['val_loss']\n",
    "\n",
    "import matplotlib.pyplot as plt\n",
    "plt.figure(figsize=(15,5))\n",
    "plt.subplot(121)\n",
    "plt.plot(epoch, acc_train,'b',\n",
    "         marker='.',\n",
    "         label='train_acc')\n",
    "plt.plot(epoch, acc_valid,'r--',\n",
    "         marker='.',\n",
    "         label='valid_acc')\n",
    "plt.title('Accuracy')\n",
    "plt.xlabel('epoch')\n",
    "plt.ylabel('accuracy')\n",
    "plt.legend()\n",
    "plt.subplot(122)\n",
    "plt.plot(epoch,loss_train,'b',\n",
    "         marker='.',\n",
    "         label='train_loss')\n",
    "plt.plot(epoch,loss_valid,'r--',\n",
    "         marker='.',\n",
    "         label='valid_loss')\n",
    "plt.title('Loss')\n",
    "plt.xlabel('epoch')\n",
    "plt.ylabel('loss')\n",
    "plt.legend()\n",
    "plt.show()"
   ]
  },
  {
   "cell_type": "markdown",
   "metadata": {},
   "source": [
    "# 통합 코드"
   ]
  },
  {
   "cell_type": "code",
   "execution_count": 18,
   "metadata": {},
   "outputs": [
    {
     "name": "stderr",
     "output_type": "stream",
     "text": [
      "<__array_function__ internals>:5: VisibleDeprecationWarning: Creating an ndarray from ragged nested sequences (which is a list-or-tuple of lists-or-tuples-or ndarrays with different lengths or shapes) is deprecated. If you meant to do this, you must specify 'dtype=object' when creating the ndarray\n",
      "C:\\Users\\onlywin7788\\anaconda3\\lib\\site-packages\\tensorflow\\python\\keras\\datasets\\imdb.py:159: VisibleDeprecationWarning: Creating an ndarray from ragged nested sequences (which is a list-or-tuple of lists-or-tuples-or ndarrays with different lengths or shapes) is deprecated. If you meant to do this, you must specify 'dtype=object' when creating the ndarray\n",
      "  x_train, y_train = np.array(xs[:idx]), np.array(labels[:idx])\n",
      "C:\\Users\\onlywin7788\\anaconda3\\lib\\site-packages\\tensorflow\\python\\keras\\datasets\\imdb.py:160: VisibleDeprecationWarning: Creating an ndarray from ragged nested sequences (which is a list-or-tuple of lists-or-tuples-or ndarrays with different lengths or shapes) is deprecated. If you meant to do this, you must specify 'dtype=object' when creating the ndarray\n",
      "  x_test, y_test = np.array(xs[idx:]), np.array(labels[idx:])\n"
     ]
    },
    {
     "name": "stdout",
     "output_type": "stream",
     "text": [
      "(25000,)\n",
      "(25000,)\n",
      "(25000,)\n",
      "(25000,)\n",
      "[1, 14, 22, 16, 43, 530, 973, 1622, 1385, 65, 458, 2, 66, 2, 4, 173, 36, 256, 5, 25, 100, 43, 838, 112, 50, 670, 2, 9, 35, 480, 284, 5, 150, 4, 172, 112, 167, 2, 336, 385, 39, 4, 172, 2, 1111, 17, 546, 38, 13, 447, 4, 192, 50, 16, 6, 147, 2, 19, 14, 22, 4, 1920, 2, 469, 4, 22, 71, 87, 12, 16, 43, 530, 38, 76, 15, 13, 1247, 4, 22, 17, 515, 17, 12, 16, 626, 18, 2, 5, 62, 386, 12, 8, 316, 8, 106, 5, 4, 2, 2, 16, 480, 66, 2, 33, 4, 130, 12, 16, 38, 619, 5, 25, 124, 51, 36, 135, 48, 25, 1415, 33, 6, 22, 12, 215, 28, 77, 52, 5, 14, 407, 16, 82, 2, 8, 4, 107, 117, 2, 15, 256, 4, 2, 7, 2, 5, 723, 36, 71, 43, 530, 476, 26, 400, 317, 46, 7, 4, 2, 1029, 13, 104, 88, 4, 381, 15, 297, 98, 32, 2, 56, 26, 141, 6, 194, 2, 18, 4, 226, 22, 21, 134, 476, 26, 480, 5, 144, 30, 2, 18, 51, 36, 28, 224, 92, 25, 104, 4, 226, 65, 16, 38, 1334, 88, 12, 16, 283, 5, 16, 2, 113, 103, 32, 15, 16, 2, 19, 178, 32]\n",
      "218\n",
      "189\n",
      "{0, 1}\n",
      "2\n",
      "Model: \"sequential_1\"\n",
      "_________________________________________________________________\n",
      "Layer (type)                 Output Shape              Param #   \n",
      "=================================================================\n",
      "embedding_1 (Embedding)      (None, None, 100)         200000    \n",
      "_________________________________________________________________\n",
      "conv1d_1 (Conv1D)            (None, None, 50)          15050     \n",
      "_________________________________________________________________\n",
      "max_pooling1d_1 (MaxPooling1 (None, None, 50)          0         \n",
      "_________________________________________________________________\n",
      "lstm_1 (LSTM)                (None, 100)               60400     \n",
      "_________________________________________________________________\n",
      "dropout_1 (Dropout)          (None, 100)               0         \n",
      "_________________________________________________________________\n",
      "dense_1 (Dense)              (None, 1)                 101       \n",
      "=================================================================\n",
      "Total params: 275,551\n",
      "Trainable params: 275,551\n",
      "Non-trainable params: 0\n",
      "_________________________________________________________________\n",
      "Epoch 1/10\n",
      "200/200 [==============================] - 17s 66ms/step - loss: 0.5739 - accuracy: 0.6634 - val_loss: 0.3881 - val_accuracy: 0.8270\n",
      "Epoch 2/10\n",
      "200/200 [==============================] - 12s 62ms/step - loss: 0.3468 - accuracy: 0.8543 - val_loss: 0.3738 - val_accuracy: 0.8290\n",
      "Epoch 3/10\n",
      "200/200 [==============================] - 12s 60ms/step - loss: 0.2934 - accuracy: 0.8800 - val_loss: 0.3725 - val_accuracy: 0.8310\n",
      "Epoch 4/10\n",
      "200/200 [==============================] - 12s 60ms/step - loss: 0.2487 - accuracy: 0.9032 - val_loss: 0.3865 - val_accuracy: 0.8322\n",
      "Epoch 5/10\n",
      "200/200 [==============================] - 12s 60ms/step - loss: 0.1963 - accuracy: 0.9300 - val_loss: 0.4494 - val_accuracy: 0.8182\n",
      "Epoch 6/10\n",
      "200/200 [==============================] - 12s 60ms/step - loss: 0.1239 - accuracy: 0.9578 - val_loss: 0.4219 - val_accuracy: 0.8222\n",
      "Epoch 7/10\n",
      "200/200 [==============================] - 12s 60ms/step - loss: 0.0900 - accuracy: 0.9733 - val_loss: 0.5526 - val_accuracy: 0.8208\n",
      "Epoch 8/10\n",
      "200/200 [==============================] - 12s 60ms/step - loss: 0.0429 - accuracy: 0.9875 - val_loss: 0.7671 - val_accuracy: 0.8138\n",
      "Epoch 9/10\n",
      "200/200 [==============================] - 12s 60ms/step - loss: 0.0291 - accuracy: 0.9918 - val_loss: 0.8824 - val_accuracy: 0.8168\n",
      "Epoch 10/10\n",
      "200/200 [==============================] - 12s 60ms/step - loss: 0.0181 - accuracy: 0.9939 - val_loss: 0.7751 - val_accuracy: 0.8192\n",
      "625/625 [==============================] - 8s 12ms/step - loss: 0.0114 - accuracy: 0.9984  - ETA: 0s\n",
      "0.9983500242233276\n",
      "157/157 [==============================] - 3s 12ms/step - loss: 0.7751 - accuracy: 0.8192\n",
      "0.8191999793052673\n",
      "782/782 [==============================] - 9s 11ms/step - loss: 0.7344 - accuracy: 0.8266\n",
      "0.8266400098800659\n"
     ]
    },
    {
     "data": {
      "image/png": "[encoded data removed]",
      "text/plain": [
       "<Figure size 1080x360 with 2 Axes>"
      ]
     },
     "metadata": {
      "needs_background": "light"
     },
     "output_type": "display_data"
    }
   ],
   "source": [
    "import numpy as np\n",
    "import tensorflow as tf\n",
    "from tensorflow.keras.datasets import imdb\n",
    "from tensorflow.keras.preprocessing import sequence\n",
    "\n",
    "from tensorflow.keras.models import Sequential\n",
    "from tensorflow.keras.layers import Dense, LSTM\n",
    "from tensorflow.keras.layers import Embedding\n",
    "from tensorflow.keras.layers import Dropout\n",
    "from tensorflow.keras.layers import Conv1D\n",
    "from tensorflow.keras.layers import MaxPooling1D\n",
    "\n",
    "import matplotlib.pyplot as plt\n",
    "\n",
    "# 랜덤 시드 설정\n",
    "np.random.seed(0)\n",
    "tf.random.set_seed(0)\n",
    "\n",
    "# 데이터 불러오기\n",
    "(X_tn0,y_tn0),(X_te0,y_test)=imdb.load_data(num_words=2000)\n",
    "\n",
    "# 원본 데이터 차원 확인\n",
    "print(X_tn0.shape)\n",
    "print(y_tn0.shape)\n",
    "print(X_te0.shape)\n",
    "print(y_test.shape)\n",
    "\n",
    "# 트레이닝/밸리데이션셋 분리\n",
    "X_train = X_tn0[0:20000]\n",
    "y_train = y_tn0[0:20000]\n",
    "X_valid = X_tn0[20000:25000]\n",
    "y_valid = y_tn0[20000:25000]\n",
    "\n",
    "# 피쳐 데이터 형태 확인\n",
    "print(X_train[0])\n",
    "\n",
    "# 개별 피쳐 크기 확인\n",
    "print(len(X_train[0]))\n",
    "print(len(X_train[1]))\n",
    "\n",
    "# 타겟 클래스 확인\n",
    "print(set(y_test))\n",
    "print(len(set(y_test)))\n",
    "\n",
    "# 피쳐 데이터 변형\n",
    "X_train = sequence.pad_sequences(X_train, maxlen=100)\n",
    "X_valid = sequence.pad_sequences(X_valid, maxlen=100)\n",
    "X_test = sequence.pad_sequences(X_te0, maxlen=100)\n",
    "\n",
    "\n",
    "# LSTM 모형 생성\n",
    "model = Sequential()\n",
    "model.add(Embedding(input_dim=2000, output_dim=100))\n",
    "model.add(Conv1D(50, kernel_size=3, \n",
    "                 padding='valid', \n",
    "                 activation='relu'))\n",
    "model.add(MaxPooling1D(pool_size=3))\n",
    "model.add(LSTM(100, activation='tanh'))\n",
    "model.add(Dropout(0.25))\n",
    "model.add(Dense(1, activation='sigmoid'))\n",
    "model.summary()\n",
    "\n",
    "# 모형 컴파일\n",
    "model.compile(loss='binary_crossentropy',\n",
    "              optimizer='adam',\n",
    "              metrics=['accuracy'])\n",
    "\n",
    "# 학습\n",
    "hist = model.fit(X_train, y_train, \n",
    "                 batch_size=100, \n",
    "                 epochs=10, \n",
    "                 validation_data=(X_valid, y_valid))\n",
    "\n",
    "# 트레이닝 데이터 평가\n",
    "print(model.evaluate(X_train, y_train)[1])\n",
    "print(model.evaluate(X_valid, y_valid)[1])\n",
    "\n",
    "# 테스트 데이터 평가\n",
    "print(model.evaluate(X_test, y_test)[1])\n",
    "\n",
    "# 정확도 학습 그래프\n",
    "epoch = np.arange(1,11)\n",
    "acc_train = hist.history['accuracy'] \n",
    "acc_valid = hist.history['val_accuracy']\n",
    "loss_train = hist.history['loss'] \n",
    "loss_valid = hist.history['val_loss']\n",
    "\n",
    "plt.figure(figsize=(15,5))\n",
    "plt.subplot(121)\n",
    "plt.plot(epoch, acc_train,'b',\n",
    "         marker='.',\n",
    "         label='train_acc')\n",
    "plt.plot(epoch, acc_valid,'r--',\n",
    "         marker='.',\n",
    "         label='valid_acc')\n",
    "plt.title('Accuracy')\n",
    "plt.xlabel('epoch')\n",
    "plt.ylabel('accuracy')\n",
    "plt.legend()\n",
    "plt.subplot(122)\n",
    "plt.plot(epoch,loss_train,'b',\n",
    "         marker='.',\n",
    "         label='train_loss')\n",
    "plt.plot(epoch,loss_valid,'r--',\n",
    "         marker='.',\n",
    "         label='valid_loss')\n",
    "plt.title('Loss')\n",
    "plt.xlabel('epoch')\n",
    "plt.ylabel('loss')\n",
    "plt.legend()\n",
    "plt.show()\n"
   ]
  },
  {
   "cell_type": "code",
   "execution_count": null,
   "metadata": {},
   "outputs": [],
   "source": []
  },
  {
   "cell_type": "code",
   "execution_count": null,
   "metadata": {},
   "outputs": [],
   "source": []
  },
  {
   "cell_type": "code",
   "execution_count": null,
   "metadata": {},
   "outputs": [],
   "source": []
  }
 ],
 "metadata": {
  "kernelspec": {
   "display_name": "Python 3",
   "language": "python",
   "name": "python3"
  },
  "language_info": {
   "codemirror_mode": {
    "name": "ipython",
    "version": 3
   },
   "file_extension": ".py",
   "mimetype": "text/x-python",
   "name": "python",
   "nbconvert_exporter": "python",
   "pygments_lexer": "ipython3",
   "version": "3.8.5"
  }
 },
 "nbformat": 4,
 "nbformat_minor": 4
}
